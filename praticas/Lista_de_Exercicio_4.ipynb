{
  "nbformat": 4,
  "nbformat_minor": 0,
  "metadata": {
    "colab": {
      "provenance": [],
      "collapsed_sections": [
        "NyvxHviMpShq"
      ]
    },
    "kernelspec": {
      "display_name": "Python 3",
      "name": "python3"
    }
  },
  "cells": [
    {
      "cell_type": "markdown",
      "metadata": {
        "id": "kGlmyFQMaR-U"
      },
      "source": [
        "# Lista de Exercício 4\n",
        "### Visão Computacional (SEL0339/SEL5886)\n",
        "\n",
        "**Instruções:**\n",
        "\n",
        " 1. Esta lista consiste em 4 exercícios, sendo um deles opcional (aplicação).\n",
        " 1. Deve-se colocar comentários nos códigos desenvolvidos.\n",
        " 1. As perguntas devem ser respondidas também como comentários no arquivo.\n",
        " 1. Colocar seu nome e número USP abaixo.\n",
        " 1. Quaisquer problemas na execução das listas, entrar em contato com os monitores.\n",
        " 1. Depois de terminados os exercícios, deve ser gerado um arquivo **extensão .ipynb** para ser enviado ao professor pelo E-DISCIPLINAS da disciplina até a data máxima de entrega.\n",
        " 1. Caso não seja enviado - ou identifique-se cópia - o aluno ficará sem nota.\n",
        "\n",
        "\n",
        "---\n",
        "\n",
        "\n",
        "\n",
        " <table class=\"tfo-notebook-buttons\" align=\"left\">\n",
        "  <td>\n",
        "    <a target=\"_blank\" href=\"https://colab.research.google.com/github/LAVI-USP/SEL0339-SEL5886_2022/blob/main/praticas/Lista_de_Exercicio_4.ipynb\"><img src=\"https://www.tensorflow.org/images/colab_logo_32px.png\" />Executar no Google Colab</a>\n",
        "  </td>\n",
        "  <td>\n",
        "    <a target=\"_blank\" href=\"https://github.com/LAVI-USP/SEL0339-SEL5886_2022/blob/main/praticas/Lista_de_Exercicio_4.ipynb\"><img src=\"https://www.tensorflow.org/images/GitHub-Mark-32px.png\" />Ver codigo fonte no GitHub</a>\n",
        "  </td>\n",
        "</table>"
      ]
    },
    {
      "cell_type": "markdown",
      "metadata": {
        "id": "L3qYz1dB-tlT"
      },
      "source": [
        "`Nome: `\n",
        "\n",
        "`Número USP: `"
      ]
    },
    {
      "cell_type": "markdown",
      "metadata": {
        "id": "b9uBe7nevota"
      },
      "source": [
        "### Introdução:\n",
        "\n",
        "Nesta lista de exercícios vamos estudar sobre filtros passa-baixa, passa-alta e processamento de pixel de borda. Primeiramente, vamos importar as bibliotecas que iremos utilizar:"
      ]
    },
    {
      "cell_type": "code",
      "metadata": {
        "id": "xnKV2As4aCX1"
      },
      "source": [
        "import numpy as np\n",
        "import matplotlib.pyplot as plt\n",
        "import cv2 as cv\n",
        "import os\n",
        "\n",
        "from scipy.io import loadmat\n",
        "from IPython.display import HTML\n",
        "from base64 import b64encode\n",
        "from skimage.util import random_noise"
      ],
      "execution_count": null,
      "outputs": []
    },
    {
      "cell_type": "markdown",
      "metadata": {
        "id": "NyvxHviMpShq"
      },
      "source": [
        "#### **Atenção**: os códigos abaixo são para fazer o download das imagens necessárias para a prática. EXECUTE-OS!"
      ]
    },
    {
      "cell_type": "code",
      "metadata": {
        "id": "Amk5CM273Afp"
      },
      "source": [
        "import urllib.request\n",
        "\n",
        "try:\n",
        "  urllib.request.urlretrieve(\"https://github.com/LAVI-USP/SEL0339-SEL5886_2022/blob/main/imagens/pratica_04/board.tif?raw=true\", \"board.tif\")\n",
        "except:\n",
        "  print(\"[ERRO] Não foi possível fazer o download das imagens dessa prática. Entre em contato com o monitor\")\n",
        "\n",
        "try:\n",
        "  urllib.request.urlretrieve(\"https://github.com/LAVI-USP/SEL0339-SEL5886_2022/blob/main/imagens/pratica_04/board_ruido.tif?raw=true\", \"board_ruido.tif\")\n",
        "except:\n",
        "  print(\"[ERRO] Não foi possível fazer o download das imagens dessa prática. Entre em contato com o monitor\")\n",
        "\n",
        "try:\n",
        "  urllib.request.urlretrieve(\"https://github.com/LAVI-USP/SEL0339-SEL5886_2022/blob/main/imagens/pratica_04/obama.mp4?raw=true\", \"obama.mp4\")\n",
        "except:\n",
        "  print(\"[ERRO] Não foi possível fazer o download das imagens dessa prática. Entre em contato com o monitor\")\n",
        "\n",
        "try:\n",
        "  urllib.request.urlretrieve(\"https://github.com/LAVI-USP/SEL0339-SEL5886_2022/blob/main/imagens/pratica_04/parede.tif?raw=true\", \"parede.tif\")\n",
        "except:\n",
        "  print(\"[ERRO] Não foi possível fazer o download das imagens dessa prática. Entre em contato com o monitor\")\n",
        "\n",
        "try:\n",
        "  urllib.request.urlretrieve(\"https://github.com/LAVI-USP/SEL0339-SEL5886_2022/blob/main/imagens/pratica_04/pontos.tif?raw=true\", \"pontos.tif\")\n",
        "except:\n",
        "  print(\"[ERRO] Não foi possível fazer o download das imagens dessa prática. Entre em contato com o monitor\")\n",
        "\n",
        "\n",
        "try:\n",
        "  urllib.request.urlretrieve(\"https://github.com/LAVI-USP/SEL0339-SEL5886_2022/blob/main/imagens/pratica_04/faceMask.mat?raw=true\", \"faceMask.mat\")\n",
        "except:\n",
        "  print(\"[ERRO] Não foi possível fazer o download das imagens dessa prática. Entre em contato com o monitor\")"
      ],
      "execution_count": null,
      "outputs": []
    },
    {
      "cell_type": "markdown",
      "metadata": {
        "id": "A0KYwX_lJtCM"
      },
      "source": [
        "### 1) Transformações por vizinhança"
      ]
    },
    {
      "cell_type": "markdown",
      "metadata": {
        "id": "6fKsf821cIKu"
      },
      "source": [
        "Transformações por vizinhança se dão por meio da combinação das intensidades de um certo número de pixels (janela ou *kernel*), a fim de computar o valor da nova intensidade na imagem de saída. A Figura 1 ilustra como se dá esse processo através da convolução espacial.\n",
        "\n",
        "<center><img src=\"https://github.com/LAVI-USP/SEL0339-SEL5886_2022/blob/main/imagens/pratica_04/convolucao.gif?raw=true\" style=\"width:650px;height:300px;\"></center>\n",
        "\n",
        "<center><caption><b> Figura 1:</b> Ilustração da convolução de um filtro em uma imagem.</b></caption></center>\n",
        "\n",
        "Na figura acima foi utilizado um *kernel* do tipo:\n",
        "\n",
        "\\begin{equation}\n",
        "K = \n",
        "\\begin{bmatrix}\n",
        "1 & 0 & 1\\\\\n",
        "0 & 1 & 0\\\\\n",
        "1 & 0 & 1\n",
        "\\end{bmatrix}\n",
        "\\end{equation}\n",
        "\n",
        "Quando o filtro está na primeira posição, a equação matemática para se obter o valor 4 é dada por:\n",
        "\n",
        "$$g(x,y) = 1 \\times 1  +  0 \\times 1  + 1 \\times 1  + 0 \\times 0  + 1 \\times 1  + 0 \\times 1  + 1 \\times 0  + 0  \\times 0  + 1 \\times 1.$$\n",
        "\n",
        "É importante notar que no domínio do espaço a diferença entre a Convolução e a Correlação Cruzada reside apenas no espelhamento do Template (*kernel*) a ser utilizado, que deve ser feito na Convolução. Como, em geral, os Templates são simétricos, a equação da Correlação Cruzada tem sido empregada com o nome de Convolução na área de Processamento de Imagens.\n",
        "\n",
        "Como pode ser observado na animação acima, caso a borda da imagem não seja tratada, a imagem resultante tem um tamanho menor. Esse tamanho pode ser calculado por meio da equação:\n",
        "\n",
        "$$ g_n = n + 2 \\times p - k + 1,$$\n",
        "\n",
        "onde $n$ é o número de linhas da imagem original, $p$ o número de pixels utilizados no *padding* e $k$ é o tamanho do *kernel* (geralmente quadrado). No caso acima, $n = 5$, $p = 0$ e $k = 3$, resultando em uma imagem de $3\\times3$. Para evitar esse problema é necessário utilizar o *padding* com o valor $p = 1$. O mesmo se dá para as colunas da imagem. \n",
        "\n",
        "Referências:\n",
        "\n",
        "*   Material da sala de aula;\n",
        "*   OpenCV: [Smoothing Images](https://docs.opencv.org/master/d4/d13/tutorial_py_filtering.html)."
      ]
    },
    {
      "cell_type": "markdown",
      "metadata": {
        "id": "eioKBPwCc8P2"
      },
      "source": [
        "### 1.1) Filtro Passa Baixa (Nota: 1.5/10)\n",
        "\n",
        "**Exercício:**\n",
        "\n",
        "1. A imagem ```board_ruido.tif``` está contaminada com ruído *gaussiano* de média zero e desvio padrão 100. Implemente um código que atenue o ruído da imagem dada utilizando:\n",
        " \n",
        "  *   Filtro da média ```3x3```.\n",
        "  *   Filtro da média ```9x9```.\n",
        "  *   Filtro da média ```12x12```.\n",
        "\n",
        "2. Comente os resultados.\n",
        "\n",
        "*Dicas:* \n",
        "\n",
        "*    Considere o exemplo do *kernel* $K$ de um filtro espacial da média apresentado abaixo:\n",
        "    \\begin{equation}\n",
        "    K = \\frac{1}{9}\n",
        "    \\begin{bmatrix}\n",
        "    1 & 1 & 1\\\\\n",
        "    1 & 1 & 1\\\\\n",
        "    1 & 1 & 1\n",
        "    \\end{bmatrix}\n",
        "    \\end{equation}\n",
        "\n",
        "    Pode-se utilizar a declaração de array da biblioteca *numpy* para declarar K como uma matriz da seguinte maneira:\n",
        "\n",
        "    ``` python\n",
        "    kernel = np.array(((1, 1, 1), \n",
        "                        (1, 1, 1),\n",
        "                        (1, 1, 1))) / 9\n",
        "    ```\n",
        " ou\n",
        "    ``` python\n",
        "    kernel = np.ones((3,3)) / 9\n",
        "    ```\n",
        "*   Utilize a função [cv.filter2D](https://docs.opencv.org/3.4/d4/d86/group__imgproc__filter.html#ga27c049795ce870216ddfb366086b5a04) para fazer a convolução com o *kernel*. \n",
        "\n",
        "    ``` python\n",
        "    cv.filter2D(myImg, -1, myKernel)\n",
        "    ```\n",
        "   \n",
        "*   Mostre as imagens na faixa de ```0-255 ```."
      ]
    },
    {
      "cell_type": "markdown",
      "source": [
        "**Observação**\n",
        "\n",
        "Ao trabalhar com filtros convolucionais, é essencial garantir que a imagem a ser filtrada seja de um \"tipo\" de variável que contemple números \"quebrados\", tal como o tipo ```float```. Sendo assim, nos exercícios abaixo, ao ler a imagem utilizando a função ```cv.imread()```, vamos adicionar um código que fará a variável ser do tipo ```float```. Para isto, basta adicionarmos o termo ```.astype('float')``` , conforme a primeira linha do código abaixo. Esta forma de utilizar a variável que contém a imagem é muito utilizada em processamentos de imagem."
      ],
      "metadata": {
        "id": "o7bctNMOCQI0"
      }
    },
    {
      "cell_type": "code",
      "metadata": {
        "id": "c9_OrDljoiAR"
      },
      "source": [
        "img_board_ruido = cv.imread('board_ruido.tif',cv.IMREAD_UNCHANGED).astype('float')\n",
        "\n",
        "## -- Seu código começa AQUI -- ##\n",
        "\n",
        "\n",
        "## -- Seu código termina AQUI -- ##\n",
        "\n",
        "## -- COMENTÁRIOS -- ##"
      ],
      "execution_count": null,
      "outputs": []
    },
    {
      "cell_type": "markdown",
      "source": [
        "### 1.2) Filtro da Média e da Mediana (Nota: 3.5/10)\n",
        "\n",
        "1. Contamine a imagem ```board.tif``` com ruído \"*gaussiano*” de média zero e desvio padrão 50.\n",
        "\n",
        "2. Contamine a imagem ```board.tif``` com ruído do tipo \"*sal e pimenta*\" . \n",
        "\n",
        "3. Implemente um código que diminua o ruído das imagens geradas utilizando:\n",
        " \n",
        "  *   Filtro da média ```3x3```. \n",
        "  *   Filtro da mediana ```3x3```. \n",
        "\n",
        "  **OBS: Cada filtro deve ser aplicado nas duas imagens ruidosas, a fim de poder comparar os resultados.**\n",
        "\n",
        "4. Qual filtro foi melhor para cada caso? Comente.\n",
        "\n",
        "5. Agora, aumente o tamanho de ambos kernels para ```5x5``` e aplique cada um dos filtros criados na imagem original (sem ruído). Compare os resultados, tendo como base o que cada um dos dois filtros tem de diferente entre si.\n",
        "\n",
        "*Dicas:* \n",
        "  *   Você pode utilizar a função [np.random.normal](https://numpy.org/doc/stable/reference/random/generated/numpy.random.normal.html) para gerar o ruído Gaussiano;\n",
        "  *   Você pode utilizar a função [random_noise](https://scikit-image.org/docs/stable/api/skimage.util.html#skimage.util.random_noise) para inserir o ruído \"*sal e pimenta*\" - basta utilizar o mode='s&p'. Já importamos a bilioteca no início do notebook.\n",
        "   * **OBS: a função random_noise converte a imagem para o intervalo [0, 1]. Lembre-se de escalar novamente para a faixa [0, 255] e converter para o tipo *float*** \n",
        "  *   Você pode utilizar a função [cv.filter2D](https://docs.opencv.org/3.4/d4/d86/group__imgproc__filter.html#ga27c049795ce870216ddfb366086b5a04) para fazer a convolução com o *kernel* do filtro;\n",
        "  *   Você pode utilizar a função [cv.medianBlur](https://docs.opencv.org/3.4/d4/d86/group__imgproc__filter.html#ga564869aa33e58769b4469101aac458f9) para o filtro da mediana;\n",
        "  *   Mostre as imagens na faixa de ```0-255 ```.  \n",
        "\n",
        "*Exemplos:*\n",
        "``` python\n",
        "\n",
        "img_ruidosa_gauss = myImg + np.random.normal(loc=0, scale=Desvio_Padrão, size=Tamanho)\n",
        "img_filtrada = cv.filter2D(myImg, -1, myKernel)\n",
        "img_ruidosa_salt_pep = random_noise(myImg, mode='s&p')\n",
        "img_ruidosa_salt_pep = (255*img_ruidosa_salt_pep).astype('float')\n",
        "img_filtrada_mediana = cv.medianBlur(np.uint8(myImg), ksize)\n",
        "```\n",
        "\n"
      ],
      "metadata": {
        "id": "XZPIWJvBCGS2"
      }
    },
    {
      "cell_type": "code",
      "source": [
        "## -- Seu código começa AQUI -- ##\n",
        "\n",
        "\n",
        "## -- Seu código termina AQUI -- ##\n",
        "\n",
        "## -- COMENTÁRIOS -- ##"
      ],
      "metadata": {
        "id": "5cgosSAzEf2R"
      },
      "execution_count": null,
      "outputs": []
    },
    {
      "cell_type": "markdown",
      "metadata": {
        "id": "xcVgKof_clxW"
      },
      "source": [
        "### 2) Filtro passa-alta \n",
        "\n",
        "#### 2.1) Filtro de aguçamento (Nota: 2.0/10.0)\n",
        "\n",
        "**Exercício:**\n",
        "\n",
        "1. Aplique o *kernel* de um filtro espacial passa-alta na imagem ```parede.tif``` a fim de adquirir as altas frequências da imagem. Apresente a imagem resultante e, para melhor visualização, seu negativo. Você pode criar o filtro como orientado no exercício anterior, mas agora para passa-alta.\n",
        "\n",
        "2. Modifique esse *kernel* a fim de torná-lo um filtro de aguçamento e aplique-o na imagem. Apresente a imagem resultante e comente os resultados.\n",
        "\n"
      ]
    },
    {
      "cell_type": "code",
      "metadata": {
        "id": "Aat3AmtHcmvH"
      },
      "source": [
        "## -- Seu código começa AQUI -- ##\n",
        "\n",
        "\n",
        "## -- Seu código termina AQUI -- ##\n",
        "\n",
        "## -- COMENTÁRIOS -- ##"
      ],
      "execution_count": null,
      "outputs": []
    },
    {
      "cell_type": "markdown",
      "metadata": {
        "id": "XcJTRYpccoEH"
      },
      "source": [
        "#### 2.2) Filtro Laplaciano - detectação de pontos isolados (Nota: 1.5/10.0)\n",
        "\n",
        "\n",
        "A imagem da figura ```pontos.tif``` apresenta 3 pontos isolados quase imperceptíveis que podem ser detectados com um filtro passa-alta espacial.\n",
        "\n",
        "**Exercício:**\n",
        "\n",
        "1. Aplique filtro de *kernel* laplaciano na imagem para detectar esses pontos.\n",
        "\n",
        "2. Faça a binarização dessa imagem para melhor visualização dos pontos. Se necessário, utilize o histograma da imagem após a filtragem para detectar um bom valor de *threshold*. \n",
        "\n",
        "*Dicas:* \n",
        "\n",
        "*  Você pode utilizar a função [cv.filter2D](https://docs.opencv.org/3.4/d4/d86/group__imgproc__filter.html#ga27c049795ce870216ddfb366086b5a04) para fazer a convolução com o *kernel*;\n",
        "* Você pode ajustar o range do histograma para encontrar uma melhor visualização.\n",
        "\n",
        "*  Você pode utilizar a função [np.where](https://numpy.org/doc/stable/reference/generated/numpy.where.html) para fazer a binarização. \n",
        " \n",
        "\n",
        "*Ex:*\n",
        "``` python\n",
        "cv.filter2D(myImg, -1, myKernel)\n",
        "plt.hist(img.flatten(),bins=255, density=False, range = (valor_min,valor_max))\n",
        "np.where(myImg < threshold, Valor_para_TRUE, Valor_para_FALSE)\n",
        "```"
      ]
    },
    {
      "cell_type": "code",
      "metadata": {
        "id": "WoY0fr6Lcqku"
      },
      "source": [
        "## -- Seu código começa AQUI -- ##\n",
        "\n",
        "\n",
        "## -- Seu código termina AQUI -- ##\n",
        "\n",
        "## -- COMENTÁRIOS -- ##"
      ],
      "execution_count": null,
      "outputs": []
    },
    {
      "cell_type": "markdown",
      "metadata": {
        "id": "GJWlEPgJc_GQ"
      },
      "source": [
        "### 3) Processamento do pixel da borda (Nota: 1.5/10.0)\n",
        "**Exercício:**\n",
        "\n",
        "1. Filtre a imagem *img* dada abaixo, utilizando um filtro da média 5x5. Utilize as seguintes soluções para a borda:\n",
        " \n",
        "  *   *Padding* com zeros;\n",
        "  *   *Padding* simétrico;\n",
        "  *   *Padding* replicado;\n",
        "\n",
        "2. Mostre as imagens resultantes e comente as diferenças encontradas. Não se esqueça de definir vmin e max para melhor visualizar as diferenças.\n",
        "\n",
        "*Dicas:* \n",
        "  *   Você pode utilizar a função [cv.blur](https://docs.opencv.org/master/d4/d86/group__imgproc__filter.html#ga8c45db9afe636703801b0b2e440fce37) para o filtro da média;\n",
        "  *   Neste [link](https://docs.opencv.org/master/d2/de8/group__core__array.html#ga209f2f4869e304c82d07739337eae7c5) você pode encontrar os tipos de *padding* utilizados no OpenCV. O tipo ```BORDER_CONSTANT``` tem como padrão o valor 0.\n",
        "\n",
        "*Ex:*\n",
        "``` python\n",
        "cv.blur(myImg, (ksize,ksize), borderType=TipoDePadding)\n",
        "```\n",
        "\n"
      ]
    },
    {
      "cell_type": "code",
      "source": [
        "#Imagem fornecida\n",
        "img = np.array(((255, 255,   255,     0, 255,   0, 0, 255, 0), \n",
        "                (255,   0,     0,     0, 255,   0, 0, 255, 0),\n",
        "                (255,   0,   255,     0, 255,   0, 0, 255, 0),\n",
        "                (255,   0,     0,     0, 255,   0, 0, 255, 0),\n",
        "                (255, 255,   255,   255, 255,   0, 0, 255, 0),\n",
        "                (255,   0,     0,     0, 255,   0, 0, 255, 0),\n",
        "                (255,   0,     0,     0, 255,   0, 0, 255, 0),\n",
        "                (255, 255,   255,   255, 255,   0, 0, 255, 0),\n",
        "                (255, 255,   255,   255, 255,   0, 0, 255, 0))).astype('float')\n",
        "\n",
        "### -- Seu código começa AQUI -- ##\n",
        "\n",
        "\n",
        "## -- Seu código termina AQUI -- ##\n",
        "\n",
        "## -- COMENTÁRIOS -- ##"
      ],
      "metadata": {
        "id": "QJyMTkdgFs99"
      },
      "execution_count": null,
      "outputs": []
    },
    {
      "cell_type": "markdown",
      "source": [
        "### 4) Opcional - Aplicação\n",
        "\n",
        "Você foi contratado por uma empresa de televisão para preservar a identidade de pessoas em matérias onde apareçam crianças, pessoas que foram acometidas por crimes etc. \n",
        "\n",
        "Para isso, vamos utilizar um vídeo do ex-presidente Obama para fazer alguns testes. Sua missão é esconder o rosto do presidente em todo o seu discurso. \n",
        "\n",
        "<center><img src=\"https://github.com/LAVI-USP/SEL0339-SEL5886_2022/blob/main/imagens/pratica_04/obama.gif?raw=true\" style=\"width:400px;height:225px;\"></center>\n",
        "\n",
        "<center><caption><b> Figura 2:</b> Discurso do Obama.</b></caption></center>\n",
        "\n",
        "Nós fornecemos para você uma máscara ``` faceMask.mat``` onde é identificada a face da pessoa a cada frame. Essa identificação foi feita com o valor ``` 255``` , ou seja, onde este valor estiver na imagem, ali estará a face. A máscara tem a mesma dimensão do frame do vídeo.\n",
        "\n",
        "Essa máscara foi gerada por meio de uma Rede Neural Convolucional (CNN). Caso queira obter mais informações sobre a mesma, visite esse [blog](https://www.pyimagesearch.com/2018/02/26/face-detection-with-opencv-and-deep-learning/).\n",
        "\n",
        "**FILTRO GAUSSIANO:**\n",
        "\n",
        "1. Altere os parametros *filter_sigma* e *filter_size* do código abaixo de forma a borrar a região de interesse.\n",
        "\n",
        "*Dicas:* \n",
        "  *   Foi utilizada a função [cv.GaussianBlur](https://docs.opencv.org/master/d4/d86/group__imgproc__filter.html#gaabe8c836e97159a9193fb0b11ac52cf1);\n",
        "  *   Nós já extraímos a parte da face de cada frame na matriz ```frame_roi``` para a aplicação do filtro.\n"
      ],
      "metadata": {
        "id": "NBtN0mi-UJnm"
      }
    },
    {
      "cell_type": "code",
      "source": [
        "# Execute essa cécula caso queira ver o vídeo.\n",
        "mp4 = open(\"obama.mp4\",'rb').read()\n",
        "data_url = \"data:video/mp4;base64,\" + b64encode(mp4).decode()\n",
        "HTML(\"\"\"<video width=\"400\" height=\"225\" controls><source src=\"%s\" type=\"video/mp4\"></video>\"\"\" % data_url)"
      ],
      "metadata": {
        "id": "pntwI_NyUOrM"
      },
      "execution_count": null,
      "outputs": []
    },
    {
      "cell_type": "code",
      "source": [
        "# Carrega a matriz com a mascara da face em cada frame\n",
        "mask = loadmat(\"faceMask.mat\")['faceMask']\n",
        "\n",
        "# Cria o objeto VideoCapture\n",
        "vs = cv.VideoCapture(\"obama.mp4\")\n",
        "\n",
        "video = []\n",
        "\n",
        "# Loop em todos os frames\n",
        "while True:\n",
        "  \n",
        "  # Leitura do frame\n",
        "  ret, frame = vs.read() \n",
        "\n",
        "  # Caso nao tenha mais nenhum frame\n",
        "  if frame is None:\n",
        "    break\n",
        "  \n",
        "  # Resize do frame para o tamanho da mascara\n",
        "  frame = cv.resize(frame, (mask.shape[1],mask.shape[0]))\n",
        "\n",
        "  # Coloca o frame lido na lista criada\n",
        "  video.append(frame) \n",
        "  \n",
        "vs.release()\n",
        "\n",
        "# Cria uma np array com todos os frames (M=225, N=400, C=3, F=780)\n",
        "video = np.stack(video, axis=3)\n",
        "\n",
        "# Defina o codec e cria o objeto VideoWriter. A saída é armazenada no arquivo 'obama_out.mp4'.\n",
        "out = cv.VideoWriter(\"obama_out.mp4\",cv.VideoWriter_fourcc(*\"MP4V\"), 20.0, (video.shape[1],video.shape[0]))\n",
        "\n",
        "# Loop em todos os frames\n",
        "for i in range(mask.shape[2]):\n",
        "\n",
        "  # Lê a mascara do respectivo frame\n",
        "  mask_frame = mask[:,:,i]\n",
        "\n",
        "  # Lê o frame\n",
        "  frame = video[:,:,:,i] \n",
        "\n",
        "  # Calculo das coordenadas onde a face esta localizada\n",
        "  rowInd = np.nonzero(np.abs(np.diff(np.sum(mask_frame, axis=1).T)))[0]\n",
        "  colInd = np.nonzero(np.abs(np.diff(np.sum(mask_frame, axis=0).T)))[0]\n",
        "\n",
        "  # Retira somente a face do frame\n",
        "  frame_roi = frame[rowInd[0]:rowInd[1],colInd[0]:colInd[1],:]\n",
        "\n",
        "  # ALTERE OS PARAMETROS ABAIXO E VEJA O RESULTADO\n",
        "\n",
        "  filter_sigma = 1\n",
        "  filter_size = 3\n",
        "\n",
        "  frame_roi = cv.GaussianBlur(frame_roi,(filter_size,filter_size), filter_sigma, filter_sigma, borderType=cv.BORDER_REFLECT)\n",
        "  # ----------\n",
        "  \n",
        "  # Retorna a face filtrada para o frame\n",
        "  frame[rowInd[0]:rowInd[1],colInd[0]:colInd[1],:] = np.uint8(frame_roi)\n",
        "\n",
        "  # Escreve o frame no arquivo \n",
        "  out.write(frame)\n",
        "\n",
        "out.release()\n",
        "\n",
        "# Removendo o arquivo de saída, caso já haja algum criado anteriormente\n",
        "os.system(f\"rm obama_out_compressed.mp4\")\n",
        "\n",
        "# Compressao do video gerado(Ref: https://stackoverflow.com/a/56589840/8682939)\n",
        "os.system(f\"ffmpeg -i obama_out.mp4 -vcodec libx264 obama_out_compressed.mp4\")\n",
        "\n",
        "\n",
        "\n",
        "plt.imshow(cv.cvtColor(frame, cv.COLOR_BGR2RGB));\n",
        "plt.axis('off');"
      ],
      "metadata": {
        "id": "nwr0E1GcUVtT"
      },
      "execution_count": null,
      "outputs": []
    },
    {
      "cell_type": "code",
      "source": [
        "# Execute essa cécula caso queira ver o resultado.\n",
        "mp4 = open('obama_out_compressed.mp4','rb').read()\n",
        "data_url = \"data:video/mp4;base64,\" + b64encode(mp4).decode()\n",
        "HTML(\"\"\"<video controls><source src=\"%s\" type=\"video/mp4\"></video>\"\"\" % data_url)"
      ],
      "metadata": {
        "id": "Ave0QEmlUZXE"
      },
      "execution_count": null,
      "outputs": []
    }
  ]
}
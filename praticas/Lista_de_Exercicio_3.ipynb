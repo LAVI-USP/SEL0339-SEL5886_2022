{
  "nbformat": 4,
  "nbformat_minor": 0,
  "metadata": {
    "colab": {
      "provenance": [],
      "collapsed_sections": [
        "NyvxHviMpShq"
      ]
    },
    "kernelspec": {
      "display_name": "Python 3",
      "name": "python3"
    }
  },
  "cells": [
    {
      "cell_type": "markdown",
      "metadata": {
        "id": "kGlmyFQMaR-U"
      },
      "source": [
        "# Lista de Exercício 3\n",
        "### Visão Computacional (SEL0339/SEL5886)\n",
        "\n",
        "**Instruções:**\n",
        "\n",
        " 1. Esta lista consiste em 3 exercícios.\n",
        " 1. Deve-se colocar comentários nos códigos desenvolvidos.\n",
        " 1. As perguntas devem ser respondidas também como comentários no arquivo.\n",
        " 1. Colocar seu nome e número USP abaixo.\n",
        " 1. Quaisquer problemas na execução das listas, entrar em contato com os monitores.\n",
        " 1. Depois de terminados os exercícios, deve ser gerado um arquivo **extensão .ipynb** para ser enviado ao professor pelo E-DISCIPLINAS da disciplina até a data máxima de entrega.\n",
        " 1. Caso não seja enviado - ou identifique-se cópia - o aluno ficará sem nota.\n",
        "\n",
        "\n",
        "---\n",
        "\n",
        "\n",
        "\n",
        " <table class=\"tfo-notebook-buttons\" align=\"left\">\n",
        "  <td>\n",
        "    <a target=\"_blank\" href=\"https://colab.research.google.com/github/LAVI-USP/SEL0339-SEL5886_2022/blob/main/praticas/Lista_de_Exercicio_3.ipynb\"><img src=\"https://www.tensorflow.org/images/colab_logo_32px.png\" />Executar no Google Colab</a>\n",
        "  </td>\n",
        "  <td>\n",
        "    <a target=\"_blank\" href=\"https://github.com/LAVI-USP/SEL0339-SEL5886_2022/blob/main/praticas/Lista_de_Exercicio_3.ipynb\"><img src=\"https://www.tensorflow.org/images/GitHub-Mark-32px.png\" />Ver codigo fonte no GitHub</a>\n",
        "  </td>\n",
        "</table>"
      ]
    },
    {
      "cell_type": "markdown",
      "metadata": {
        "id": "L3qYz1dB-tlT"
      },
      "source": [
        "`Nome: `\n",
        "\n",
        "`Número USP: `"
      ]
    },
    {
      "cell_type": "markdown",
      "metadata": {
        "id": "b9uBe7nevota"
      },
      "source": [
        "### Introdução:\n",
        "\n",
        "Nesta lista de exercícios vamos estudar sobre histogramas, transformações de intensidade ponto a ponto e equalização de histogramas. Primeiramente, vamos importar as bibliotecas que iremos utilizar:"
      ]
    },
    {
      "cell_type": "code",
      "metadata": {
        "id": "xnKV2As4aCX1"
      },
      "source": [
        "import numpy as np\n",
        "import matplotlib.pyplot as plt\n",
        "import cv2 as cv\n",
        "import os\n",
        "\n",
        "from scipy.io import loadmat\n",
        "from IPython.display import HTML\n",
        "from base64 import b64encode"
      ],
      "execution_count": null,
      "outputs": []
    },
    {
      "cell_type": "markdown",
      "metadata": {
        "id": "NyvxHviMpShq"
      },
      "source": [
        "#### **Atenção**: os códigos abaixo são para fazer o download das imagens necessárias para a prática. EXECUTE-OS!"
      ]
    },
    {
      "cell_type": "code",
      "metadata": {
        "id": "Amk5CM273Afp"
      },
      "source": [
        "import urllib.request\n",
        "\n",
        "try:\n",
        "  urllib.request.urlretrieve(\"https://github.com/LAVI-USP/SEL0339-SEL5886_2022/blob/main/imagens/pratica_03/fotografo.tif?raw=true\", \"fotografo.tif\")\n",
        "except:\n",
        "  print(\"[ERRO] Não foi possível fazer o download das imagens dessa prática. Entre em contato com o monitor\")\n",
        "\n",
        "try:\n",
        "  urllib.request.urlretrieve(\"https://github.com/LAVI-USP/SEL0339-SEL5886_2022/blob/main/imagens/pratica_03/polem_baixo_contraste.bmp?raw=true\", \"polem_baixo_contraste.bmp\")\n",
        "except:\n",
        "  print(\"[ERRO] Não foi possível fazer o download das imagens dessa prática. Entre em contato com o monitor\")\n",
        "\n",
        "try:\n",
        "  urllib.request.urlretrieve(\"https://github.com/LAVI-USP/SEL0339-SEL5886_2022/blob/main/imagens/pratica_03/palavrascruzadas.tif?raw=true\", \"palavrascruzadas.tif\")\n",
        "except:\n",
        "  print(\"[ERRO] Não foi possível fazer o download das imagens dessa prática. Entre em contato com o monitor\")\n",
        "\n",
        "try:\n",
        "  urllib.request.urlretrieve(\"https://github.com/LAVI-USP/SEL0339-SEL5886_2022/blob/main/imagens/pratica_03/mriphantom.tif?raw=true\", \"mriphantom.tif\")\n",
        "except:\n",
        "  print(\"[ERRO] Não foi possível fazer o download das imagens dessa prática. Entre em contato com o monitor\")\n",
        "\n",
        "try:\n",
        "  urllib.request.urlretrieve(\"https://github.com/LAVI-USP/SEL0339-SEL5886_2022/blob/main/imagens/pratica_03/armadura.tif?raw=true\", \"armadura.tif\")\n",
        "except:\n",
        "  print(\"[ERRO] Não foi possível fazer o download das imagens dessa prática. Entre em contato com o monitor\")\n",
        "\n",
        "try:\n",
        "  urllib.request.urlretrieve(\"https://github.com/LAVI-USP/SEL0339-SEL5886_2022/blob/main/imagens/pratica_03/pontos.tif?raw=true\", \"pontos.tif\")\n",
        "except:\n",
        "  print(\"[ERRO] Não foi possível fazer o download das imagens dessa prática. Entre em contato com o monitor\")\n",
        "\n",
        "try:\n",
        "  urllib.request.urlretrieve(\"https://github.com/LAVI-USP/SEL0339-SEL5886_2022/blob/main/imagens/pratica_03/board_ruido.tif?raw=true\", \"board_ruido.tif\")\n",
        "except:\n",
        "  print(\"[ERRO] Não foi possível fazer o download das imagens dessa prática. Entre em contato com o monitor\")"
      ],
      "execution_count": null,
      "outputs": []
    },
    {
      "cell_type": "markdown",
      "metadata": {
        "id": "ppupxqIr71zm"
      },
      "source": [
        "### 1) Visualização de histogramas (Nota: 1.0/10.0)\n",
        "\n",
        "Você pode considerar o histograma como um gráfico (ou plotagem) que dá uma ideia geral sobre a distribuição da intensidade dos pixels de uma imagem. É um gráfico que indica os valores de intensidade dos pixels (variando de 0 a 255, caso a quantização seja realizada em 8 bits), no eixo X, e o número de pixels na imagem com a intensidade correspondente, no eixo Y.\n",
        "\n",
        "É apenas outra forma de entender a imagem. Olhando para o histograma de uma imagem, você tem uma intuição sobre o contraste, brilho, distribuição de intensidade, etc. Quase todas as ferramentas de processamento de imagem oferecem recursos de histograma. \n",
        "\n",
        "<center><img src=\"https://github.com/LAVI-USP/SEL0339-SEL5886_2022/blob/main/imagens/pratica_03/histograma.png?raw=true\" style=\"width:650px;height:300px;\"></center>\n",
        "\n",
        "<center><caption><b> Figura 1:</b> Exemplo de histograma.</b></caption></center>\n",
        "<caption><center> Referência: <a href=\"https://docs.opencv.org/master/d1/db7/tutorial_py_histogram_begins.html\">Histograms - OpenCV</a>.</center></caption>\n",
        "\n",
        "1. Mostre a imagem ```fotografo.tif``` e seu histograma com o número de *bins* diferentes. Utilize ```bins=50``` e ```bins=100``` e comente os resultados.\n",
        "2.É possível observar que 3 \"regiões\" se destacam (\"separadamente\") no histograma. Relacione-os com 3 grandes grupos na imagem.\n",
        "\n",
        "*Dica:* Utilize a função [plt.hist](https://matplotlib.org/3.3.1/api/_as_gen/matplotlib.pyplot.hist.html). \n",
        "\n",
        "*Ex:*\n",
        "``` python\n",
        "plt.hist(myImg.flatten(),bins=XX,density=False,range=(0,255))\n",
        "```"
      ]
    },
    {
      "cell_type": "code",
      "metadata": {
        "id": "v3zOxtTSjJh8"
      },
      "source": [
        "## -- Seu código começa AQUI -- ##\n",
        "\n",
        "## -- Seu código termina AQUI -- ##"
      ],
      "execution_count": null,
      "outputs": []
    },
    {
      "cell_type": "markdown",
      "metadata": {
        "id": "RxjVUijeDIfU"
      },
      "source": [
        "### 2) Binarização (Nota: 2.5/10.0)\n",
        "\n",
        "1. Visualize a imagem `palavrascruzadas.tif`e mostre seu histograma.\n",
        "\n",
        "2. Defina um limiar (*threshold*) para binarização. Você pode encontrá-lo através do método do vale: observe o histograma e encontre a intensidade em que grandes grupos se separam, formando um vale. Este valor será seu *threshold*.\n",
        "\n",
        "3. Utilizando o limiar encontrado no item 2, implemente um código (com técnicas regulares de programação Python) que realize a operação de transformação da imagem lida no item 1 para uma imagem binária. O objetivo é separar ao máximo as peças (contendo letras) do fundo da imagem. Apresente a imagem binarizada resultante. \n",
        "\n",
        "Outra forma de binarizar a imagem é utilizando algoritmos que buscam um limiar (*threshold*) de forma automática. É o caso, por exemplo, do método de Otsu ([informações sobre o método aqui](https://docs.opencv.org/master/d7/d4d/tutorial_py_thresholding.html))\n",
        "\n",
        "  *   A função [cv.threshold](https://docs.opencv.org/master/d7/d1b/group__imgproc__misc.html#gae8a4a146d1ca78c626a53577199e9c57) [(exemplos aqui)](https://docs.opencv.org/master/d7/d4d/tutorial_py_thresholding.html) - permite fazer uso dessa técninca ao passar os argumentos conforme abaixo. \n",
        "  ``` python\n",
        "  th_value,img = cv.threshold(myImg, 0, 255, cv.THRESH_BINARY + cv.THRESH_OTSU)\n",
        "  ```\n",
        "  em que ```th_value``` receberá o valor do *threshold* encontrado e ```img``` a imagem binarizada\n",
        "\n",
        "4. Implemente um código (*utilizando a função cv.threshold com método de Otsu*) que realize a operação de binarização da imagem lida no item 1. Apresente a imagem binarizada resultante. \n",
        "\n",
        "5. Comente os resultados, comparando as duas formas de encontrar o limiar (*threshold*).\n"
      ]
    },
    {
      "cell_type": "code",
      "metadata": {
        "id": "qTy1RZjDKk6O"
      },
      "source": [
        "## -- Seu código começa AQUI -- ##\n",
        "\n",
        "## -- Seu código termina AQUI -- ##"
      ],
      "execution_count": null,
      "outputs": []
    },
    {
      "cell_type": "markdown",
      "metadata": {
        "id": "OcMh8xfE_EDX"
      },
      "source": [
        "## 3) Transformação de intensidades \n",
        "\n",
        "As técnicas de processamento no domínio espacial operam diretamente nos pixels da imagem. A expressão geral para a função de transformação nos níveis de cinza pode ser dada por: \n",
        "\n",
        "$$g(x,y) = T[f(x,y)],$$\n",
        "\n",
        "sendo $f(x,y)$ a imagem de entrada e $g(x,y)$ a imagem de saída ou imagem processada. $T$ é um operador em $f$.\n",
        "\n",
        "\n",
        "### 3.1) Transformação linear(Nota: 3.0/10.0)\n",
        "\n",
        "Um exemplo de função de transformação é a linear, tal que:\n",
        "\n",
        "$$g(x,y) = c \\times f(x,y) + b,$$\n",
        "\n",
        "onde $c$ é uma constante que controla o contraste, e $b$, o brilho.\n",
        "\n",
        "**Exercício:**\n",
        "\n",
        "1. Leia a imagem ```polem_baixo_contraste.bmp```.\n",
        "\n",
        "2. Quais os valores máximo e mínimo dessa imagem?\n",
        "\n",
        "3. Plote a imagem (utilizando vmin=0 e vmax=255 na função plt.imshow ) e seu respectivo histograma. \n",
        "\n",
        "4. Aplique uma transformação linear na imagem lida de modo a alargar seu histograma para toda a faixa de valores de dados do tipo ```uint8```, ou seja, encontre um valor de $c$ e $b$ para que a imagem se adeque a toda a faixa de 0 a 255. Dê um print nos valores $c$ e $b$ encontrados.\n",
        "\n",
        "5. Quais os valores máximo e mínimo da nova imagem?\n",
        "\n",
        "6. Mostre a imagem gerada após o alargamento de contraste (utilizando vmin=0 e vmax=255 na função plt.imshow ) e seu novo histograma. \n",
        "\n",
        "5. Utilizando subplot de 1 linha por 3 colunas, plote as seguintes imagens:\n",
        "  - A imagem original, utilizando vmin=0 e vmax=255.\n",
        "  - A imagem após alargamento utilizando vmin=0 e vmax=255.\n",
        "  - A imagem original, ocultando os parâmetros vmin e vmax.\n",
        "  \n",
        "  O que se pode observar? Qual a explicação?\n",
        "\n",
        "6. A partir da imagem obtida após alargamento de contraste (item 3), aplique uma transformação linear na mesma imagem afim de gerar o seu negativo. Mostre a imagem."
      ]
    },
    {
      "cell_type": "code",
      "metadata": {
        "id": "7ijwVq_bieYM"
      },
      "source": [
        "## -- Seu código começa AQUI -- ##\n",
        "\n",
        "## -- Seu código termina AQUI -- ##"
      ],
      "execution_count": null,
      "outputs": []
    },
    {
      "cell_type": "markdown",
      "metadata": {
        "id": "u0PIlEKf7HZH"
      },
      "source": [
        "### 3.2) Transformação não-linear:\n",
        "\n",
        "Agora, iremos analisar algumas transformações não-lineares.\n",
        "\n",
        "#### 3.2.1) Equalização de histograma (Nota: 1.5/10.0)\n",
        "\n",
        "Começaremos pela equalização de histograma - transformação de intensidades que tem por objetivo balancear os níveis de cinza em uma imagem de forma automática, sem precisar de parâmetros e configurações adicionais.\n",
        "\n",
        "1. Faça a equalização de histograma da imagem ```polem_baixo_contraste.bmp``` utilizando a função [cv.equalizeHist](https://docs.opencv.org/2.4/modules/imgproc/doc/histograms.html?highlight=equalizehist#equalizehist) do OpenCV.\n",
        "\n",
        "2. Mostre as imagens e os respectivos histogramas (antes e depois da equalização). Comente os resultados. Nota-se diferença com relação ao alargamento de histograma realizado no exercício 3.1 com a mesma imagem?\n"
      ]
    },
    {
      "cell_type": "code",
      "metadata": {
        "id": "ao7T6of3rL3q"
      },
      "source": [
        "## -- Seu código começa AQUI -- ##\n",
        "\n",
        "## -- Seu código termina AQUI -- ##"
      ],
      "execution_count": null,
      "outputs": []
    },
    {
      "cell_type": "markdown",
      "source": [
        "#### 3.2.2) Transformações *log* e *gamma* (Nota: 2.0/10.0)\n",
        "\n",
        "A transformação logarítmica ($log$) tem como fórmula geral:\n",
        "\n",
        "$$g(x,y) = c * log(f(x,y) + 1),$$\n",
        "\n",
        "onde $c$ é uma constante. A figura 2 ilustra essa transformação, bem como algumas outras transformações já mencionadas em sala de aula.\n",
        "\n",
        "<center><img src=\"https://github.com/LAVI-USP/SEL0339-SEL5886_2022/blob/main/imagens/pratica_03/log.png?raw=true\" width=\"353\" height=\"320\"></center>\n",
        "\n",
        "<center><caption><b>Figura 2:</b> Exemplos de transformações ponto a ponto.</b></caption></center>\n",
        "<caption><center> Referência: Gonzalez and Woods, Digital Image Processing 3rd.</center></caption>\n",
        "\n",
        "A transformação *gamma* é dada por:\n",
        "\n",
        "$$g(x,y) = c * f(x,y)^\\gamma$$\n",
        "\n",
        "onde $c$ tambem é uma constante. Como no caso da transformação logarítmica, curvas de transformação de potência com valores de $\\gamma$ menores que 1 mapeiam uma faixa estreita de valores escuros de entradas em uma faixa mais ampla de valores de saída, com o oposto se aplicando a valores mais altos de níveis de entrada. A figura 3 ilustra como são os formatos das curvas com diferentes valores de *gamma*.\n",
        "\n",
        "<center><img src=\"https://github.com/LAVI-USP/SEL0339-SEL5886_2022/blob/main/imagens/pratica_03/gamma.png?raw=true\" width=\"365\" height=\"330\"></center>\n",
        "\n",
        "<center><caption><b>Figura 3:</b> Curvas com diferentes valores de *gamma*.</b></caption></center>\n",
        "<caption><center>Referência: Gonzalez and Woods, Digital Image Processing 3rd.</center></caption>\n",
        "\n",
        "\n",
        "1. Leia a imagem ```mriphantom.tif```. Mostre os valores máximo e mínimo. Plote a imagem, considerando vmin=0 e vmax=255, e seu respectivo histograma.\n",
        "\n",
        "2. Execute as seguintes transformações não-lineares G1, G2 e G3, encontrando o valor mais adequado para a constante c de forma que os níveis de cinza abranjam todo o range de intensidade considerando resolução de 8 bits:\n",
        "\n",
        "  *   ```G1 = c * np.log10(img + 1.00)```\n",
        "  *   ```G2 = c * (img ** 0.25)```\n",
        "  *   ```G3 = c * (img ** 1.25)```\n",
        "\n",
        "  *Atenção! Verifique os valores máximo e mínimo finais após a transformação. Eles devem estar dentro do range de 0 a 255.*\n",
        "\n",
        "3. Mostre as imagens resultantes de G1, G2 e G3.\n",
        "\n",
        "4. Comente os resultados encontrados para cada uma delas, explicando o que a transformação utilizada fez com os níveis de cinza da imagem.\n"
      ],
      "metadata": {
        "id": "GIOHaPwMRvPe"
      }
    },
    {
      "cell_type": "code",
      "metadata": {
        "id": "P-vM4ArC2p-D"
      },
      "source": [
        "## -- Seu código começa AQUI -- ##\n",
        "\n",
        "## -- Seu código termina AQUI -- ##"
      ],
      "execution_count": null,
      "outputs": []
    }
  ]
}